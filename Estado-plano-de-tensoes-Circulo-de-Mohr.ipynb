{
 "cells": [
  {
   "attachments": {},
   "cell_type": "markdown",
   "metadata": {},
   "source": [
    "<div>\n",
    "<img style=\"float: right;\" src=\"attachment:image.png\" width=\"500px\">\n",
    "<div>\n",
    "\n",
    "# Círculo de Mohr\n",
    "    \n",
    "### Raio do círculo\n",
    "\n",
    "$R=\\sqrt{\\left(\\frac{\\sigma_{x}-\\sigma_{y}}{2}\\right)^2+\\tau_{xy}^2}$\n",
    "    \n",
    "### Tensão normal média\n",
    "\n",
    "$\\sigma_{méd}=\\frac{\\sigma_{x}+\\sigma_{y}}{2}$\n",
    "    \n",
    "    \n",
    "### Tensão de cisalhamento máxima\n",
    "\n",
    "$\\tau_{máx}=R$\n",
    "\n",
    "    \n",
    "### Tensão mormal máxima\n",
    "\n",
    "$\\sigma_{máx}=\\sigma_{méd} + R$\n",
    "\n",
    "\n",
    "### Tensão mormal mínima\n",
    "\n",
    "$\\sigma_{mín}=\\sigma_{méd} - R$"
   ]
  },
  {
   "cell_type": "code",
   "execution_count": 2,
   "metadata": {},
   "outputs": [],
   "source": [
    "import numpy as np\n",
    "import matplotlib.pyplot as plt\n",
    "from matplotlib.pyplot import figure\n",
    "\n",
    "def circmohr(sigmax, sigmay, tauxy, ang):\n",
    "    \n",
    "    #Construção do círculo de Mohr\n",
    "    sigmamed=(sigmax+sigmay)/2\n",
    "    R=(((sigmax-sigmay)/2)**2+tauxy**2)**0.5\n",
    "    sigmamax=sigmamed+R\n",
    "    sigmamin=sigmamed-R\n",
    "    taumax=R\n",
    "    sigma=np.zeros(360)\n",
    "    tau=np.zeros(360)\n",
    "    for i in np.arange(360):\n",
    "        theta=(np.pi/180)*i\n",
    "        sigma[i]=sigmamed+R*np.cos(2*theta)\n",
    "        tau[i]=R*np.sin(2*theta)\n",
    "    figure(figsize=(5, 5), dpi=150)\n",
    "    plt.plot(sigma, tau, \"blue\", label=\"Envoltória de tensões\")#Círculo\n",
    "    plt.fill_between(sigma, tau, facecolor='y', alpha=0.15)\n",
    "    plt.plot(np.array([sigmamin,sigmamed,sigmamax]),np.array([0,0,0]), 'black', ls=\"--\")#Eixo horizontal\n",
    "    plt.plot(np.array([sigmamed,sigmamed,sigmamed]),np.array([-taumax, 0, taumax]),'black', ls=\"--\")#Eixo vertical\n",
    "    plt.plot(np.array([0,0]),np.array([-1.2*taumax, 1.2*taumax]),'black')#Eixo vertical_REF\n",
    "    plt.plot([sigmay, sigmamed, sigmax], [-tauxy, 0, tauxy], \"r\", marker=\"o\", label=\"Estado inicial\")#Reta inclinada\n",
    "\n",
    "\n",
    "    #Transformação de tensões\n",
    "    theta=(np.pi/180)*ang;\n",
    "    sigmax_1=(sigmax+sigmay)/2 + ((sigmax-sigmay)/2)*np.cos(2*theta) + tauxy*np.sin(2*theta)\n",
    "    sigmay_1=(sigmax+sigmay)/2 - ((sigmax-sigmay)/2)*np.cos(2*theta) - tauxy*np.sin(2*theta)\n",
    "    tauxy_1=-((sigmax-sigmay)/2)*np.sin(2*theta) + tauxy*np.cos(2*theta)\n",
    "    plt.plot([sigmay_1, sigmamed, sigmax_1], [-tauxy_1, 0, tauxy_1], \"g\", marker=\"o\", label=r\"Tensões para $\\theta = %s °$\" %ang)#Reta inclinada\n",
    "    x=[sigmay_1, sigmamed, sigmax_1]; y=[-tauxy_1, 0, tauxy_1]\n",
    "    plt.plot([sigmax_1, sigmax_1], [0, tauxy_1], \"grey\", ls=\"--\")#Projeção sigma\n",
    "    plt.plot([sigmay_1, sigmay_1], [0, -tauxy_1],\"grey\", ls=\"--\")#Projeção sigma\n",
    "    plt.plot([sigmamed, sigmax_1], [tauxy_1, tauxy_1], \"grey\", ls=\"--\")#Projeção tau\n",
    "    plt.plot([sigmamed, sigmay_1], [-tauxy_1, -tauxy_1], \"grey\", ls=\"--\")#Projeção tau\n",
    "    plt.annotate(round(sigmay_1,2), xy=(sigmay_1-0.1*R,-0.15*taumax))#Rótulo sigmax'\n",
    "    plt.annotate(round(sigmax_1,2), xy=(sigmax_1-0.1*R,-0.15*taumax))#Rótulo sigmay'\n",
    "    plt.annotate(round(-tauxy_1,2), xy=(sigmamed-0.25*R,-tauxy_1))#Rótulo tauxy'\n",
    "    plt.annotate(round(tauxy_1,2), xy=(sigmamed-0.25*R,tauxy_1))#Rótulo tauxy'\n",
    "\n",
    "    direita=sigmamax+0.25*abs(sigmamax)\n",
    "    \n",
    "    plt.text(sigmamin-0.2*abs(sigmamin),0, \"$\\sigma_{mín}$\")\n",
    "    plt.text(sigmamax+0.05*abs(sigmamax),0, \"$\\sigma_{máx}$\")\n",
    "    plt.text(sigmamed,1.1*taumax, r\"$\\tau_{máx}$\")\n",
    "    plt.text(sigmamed,-1.1*taumax, r\"$\\tau_{máx}$\")\n",
    "    \n",
    "    plt.text(direita,1.15*taumax, \"Tensões iniciais:\")\n",
    "    plt.text(direita,1.0*taumax, \"$\\sigma_{x} = %s\\ MPa$\" %round(sigmax,2))\n",
    "    plt.text(direita,0.85*taumax, \"$\\sigma_{y} = %s\\ MPa$\" %round(sigmay,2))\n",
    "    plt.text(direita,0.7*taumax, r\"$\\tau_{xy} = %s\\ MPa$\" %round(tauxy,2))\n",
    "\n",
    "    plt.text(sigmamax+0.25*abs(sigmamax),0.35*taumax, r\"Tensões transformadas para $\\theta = %s °$:\" %round(ang,2))\n",
    "    plt.text(direita,0.2*taumax, \"$R\\ = %s\\ MPa$\" %round(R,2))\n",
    "    plt.text(direita,0.05*taumax, \"$\\sigma_{média} = %s\\ MPa$\" %round(sigmamed,2))\n",
    "    plt.text(direita,-0.1*taumax, \"$\\sigma_{x'} = %s\\ MPa$\" %round(sigmax_1,2))\n",
    "    plt.text(direita,-0.25*taumax, \"$\\sigma_{y'} = %s\\ MPa$\" %round(sigmay_1,2))\n",
    "    plt.text(direita,-0.4*taumax, r\"$\\tau_{x'y'} = %s\\ MPa$\" %round(tauxy_1,2))\n",
    "    \n",
    "\n",
    "    plt.xlim(sigmamin-0.2*abs(sigmamax),sigmamax+0.2*abs(sigmamax))\n",
    "    plt.ylim(-1.2*taumax,1.2*taumax)\n",
    "    plt.title(\"Círculo de Mohr para o estado de tensões planas\")\n",
    "    plt.xlabel(r\"$\\sigma (MPa)$\")\n",
    "    plt.ylabel(r\"$\\tau_{xy}$ (MPa)\")\n",
    "    plt.legend(bbox_to_anchor = (0.5, -0.15))\n",
    "    plt.grid(ls=\"--\")\n",
    "    plt.show()   "
   ]
  },
  {
   "cell_type": "code",
   "execution_count": 3,
   "metadata": {},
   "outputs": [
    {
     "data": {
      "application/vnd.jupyter.widget-view+json": {
       "model_id": "b173bf1908944915b314afea11b43086",
       "version_major": 2,
       "version_minor": 0
      },
      "text/plain": [
       "interactive(children=(FloatText(value=10.0, description='Tensão normal na direção x, em MPa = ', style=Descrip…"
      ]
     },
     "metadata": {},
     "output_type": "display_data"
    }
   ],
   "source": [
    "import ipywidgets as widgets\n",
    "from ipywidgets import interactive, Layout\n",
    "\n",
    "interactive(\n",
    "    circmohr,\n",
    "    sigmax=widgets.FloatText(value = 10, description = \"Tensão normal na direção x, em MPa = \", disabled = False, style = {'description_width': 'initial'}),\n",
    "    sigmay=widgets.FloatText(value = -10, description = \"Tensão normal na direção y, em MPa = \", disabled = False, style = {'description_width': 'initial'}),\n",
    "    tauxy=widgets.FloatText(value = 10, description = \"Tensão de cisalhamento, em MPa = \", disabled = False, style = {'description_width': 'initial'}),\n",
    "    #ang=widgets.FloatText(value = 30, description = \"Ângulo = \", disabled = False, style = {'description_width': 'initial'})\n",
    "    ang=widgets.FloatSlider(value=0, min=0, max=180, step=1, description='Inclinação = ', disabled=False, continuous_update=False, orientation='horizontal', layout=Layout(width='1000px'))\n",
    ")\n"
   ]
  }
 ],
 "metadata": {
  "kernelspec": {
   "display_name": "base",
   "language": "python",
   "name": "python3"
  },
  "language_info": {
   "codemirror_mode": {
    "name": "ipython",
    "version": 3
   },
   "file_extension": ".py",
   "mimetype": "text/x-python",
   "name": "python",
   "nbconvert_exporter": "python",
   "pygments_lexer": "ipython3",
   "version": "3.8.8"
  },
  "orig_nbformat": 4
 },
 "nbformat": 4,
 "nbformat_minor": 2
}
